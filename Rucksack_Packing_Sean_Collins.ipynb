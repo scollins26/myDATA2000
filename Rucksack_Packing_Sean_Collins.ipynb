{
  "nbformat": 4,
  "nbformat_minor": 0,
  "metadata": {
    "colab": {
      "provenance": [],
      "authorship_tag": "ABX9TyP0GEQRHz6Ua0zmLCDDcobX",
      "include_colab_link": true
    },
    "kernelspec": {
      "name": "python3",
      "display_name": "Python 3"
    },
    "language_info": {
      "name": "python"
    }
  },
  "cells": [
    {
      "cell_type": "markdown",
      "metadata": {
        "id": "view-in-github",
        "colab_type": "text"
      },
      "source": [
        "<a href=\"https://colab.research.google.com/github/scollins26/myDATA2000/blob/Homeworks/Rucksack_Packing_Sean_Collins.ipynb\" target=\"_parent\"><img src=\"https://colab.research.google.com/assets/colab-badge.svg\" alt=\"Open In Colab\"/></a>"
      ]
    },
    {
      "cell_type": "code",
      "source": [
        "def main1():\n",
        "  item_priority_mapping = {}\n",
        "\n",
        "  for i, char in enumerate('abcdefghijklmnopqrstuvwxyz', 1):\n",
        "      item_priority_mapping[char] = i\n",
        "\n",
        "  for i, char in enumerate('ABCDEFGHIJKLMNOPQRSTUVWXYZ', 27):\n",
        "      item_priority_mapping[char] = i\n",
        "\n",
        "  input = open(\"/content/rucksack-input\", \"r\")\n",
        "  rucksacks = input.readlines()\n",
        "\n",
        "  def find_common_item(compartment1, compartment2):\n",
        "    return \"\".join(item for item in compartment1 if item in compartment2)\n",
        "\n",
        "  total_priority_part1 = 0\n",
        "  for rucksack in rucksacks:\n",
        "    compartment_size = len(rucksack)//2\n",
        "    compartment1 = rucksack[:compartment_size]\n",
        "    compartment2 = rucksack[compartment_size:]\n",
        "\n",
        "    common_item_type = find_common_item(compartment1, compartment2)\n",
        "\n",
        "    priority = item_priority_mapping[common_item_type[0]]\n",
        "\n",
        "    total_priority_part1 += priority\n",
        "\n",
        "  print(\"Total Priority for Part 1: \",total_priority_part1)\n",
        "\n",
        "main1()\n",
        "\n"
      ],
      "metadata": {
        "colab": {
          "base_uri": "https://localhost:8080/"
        },
        "id": "dIroP-uP2-sY",
        "outputId": "10fc8579-db03-416a-b302-c55a45bf4247"
      },
      "execution_count": 38,
      "outputs": [
        {
          "output_type": "stream",
          "name": "stdout",
          "text": [
            "Total Priority for Part 1:  7967\n"
          ]
        }
      ]
    },
    {
      "cell_type": "code",
      "source": [
        "def main2():\n",
        "  total_priority_part2 = 0\n",
        "  for i in range(0, len(rucksacks), 3):\n",
        "      group = rucksacks[i:i + 3]\n",
        "      compartment1 = set(group[0])\n",
        "      compartment2 = set(group[1])\n",
        "      compartment3 = set(group[2])\n",
        "\n",
        "      common_item_type = (compartment1 & compartment2 & compartment3).pop()\n",
        "\n",
        "      priority = calculate_priority(common_item_type)\n",
        "      total_priority_part2 += priority\n",
        "\n",
        "\n",
        "  print(\"Total Priority for Part 2:\", total_priority_part2)\n",
        "\n",
        "main2()"
      ],
      "metadata": {
        "id": "XWTNgbntsRHH",
        "outputId": "7adc73cc-3318-4fdb-9e90-6735e5ad8cdb",
        "colab": {
          "base_uri": "https://localhost:8080/"
        }
      },
      "execution_count": 39,
      "outputs": [
        {
          "output_type": "stream",
          "name": "stdout",
          "text": [
            "Total Priority for Part 2: 1995\n"
          ]
        }
      ]
    },
    {
      "cell_type": "code",
      "source": [],
      "metadata": {
        "id": "vDMbDIqeS8KN"
      },
      "execution_count": null,
      "outputs": []
    }
  ]
}
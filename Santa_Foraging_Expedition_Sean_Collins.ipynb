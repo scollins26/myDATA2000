{
  "nbformat": 4,
  "nbformat_minor": 0,
  "metadata": {
    "colab": {
      "provenance": []
    },
    "kernelspec": {
      "name": "python3",
      "display_name": "Python 3"
    },
    "language_info": {
      "name": "python"
    }
  },
  "cells": [
    {
      "cell_type": "code",
      "execution_count": 37,
      "metadata": {
        "id": "4y79uL77RN81"
      },
      "outputs": [],
      "source": [
        "import os\n",
        "import shutil"
      ]
    },
    {
      "cell_type": "code",
      "source": [
        "myfile = \"/content/09-25_input-1.txt\"\n",
        "os.path.isfile(myfile)\n"
      ],
      "metadata": {
        "colab": {
          "base_uri": "https://localhost:8080/"
        },
        "id": "GWpojvIoWHwe",
        "outputId": "fb2aa75f-bd52-496a-8a67-72930127e436"
      },
      "execution_count": 38,
      "outputs": [
        {
          "output_type": "execute_result",
          "data": {
            "text/plain": [
              "True"
            ]
          },
          "metadata": {},
          "execution_count": 38
        }
      ]
    },
    {
      "cell_type": "code",
      "source": [
        "file1 = open(\"/content/09-25_input-1.txt\", \"r\")\n",
        "info = file1.readlines()\n",
        "new_info = []\n",
        "elves_list = [0]\n",
        "for i in info:\n",
        "  new_info.append(i.strip())\n",
        "\n",
        "\n",
        "for i in range(0, len(new_info)):\n",
        "  if new_info[i].isnumeric():\n",
        "    new_info[i] = int(new_info[i])\n",
        "\n",
        "  else:\n",
        "    continue\n",
        "def main():\n",
        "  elf = 0\n",
        "  for i in range(0, len(new_info)):\n",
        "    if isinstance(new_info[i], str):\n",
        "      elf += 1\n",
        "      elves_list.append(0)\n",
        "    elif isinstance(new_info[i], int):\n",
        "      elves_list[elf] += new_info[i]\n",
        "\n",
        "  most_food= 0\n",
        "  elf_with_most_food = 0\n",
        "  for i in range(len(elves_list)):\n",
        "    if(elves_list[i]>most_food):\n",
        "      most_food = elves_list[i]\n",
        "      elf_with_most_food = i + 1\n",
        "\n",
        "\n",
        "  print(\"The elf with the most food is elf\",elf_with_most_food,\".\\nThey have\",most_food,\"calories worth of food.\")\n",
        "\n",
        "\n",
        "main()\n",
        "\n",
        "\n",
        "\n",
        "\n"
      ],
      "metadata": {
        "colab": {
          "base_uri": "https://localhost:8080/"
        },
        "id": "3ZE1mIckYmpE",
        "outputId": "3f4a89df-91b5-4cae-a8fc-b2680f135a3d"
      },
      "execution_count": 8,
      "outputs": [
        {
          "output_type": "stream",
          "name": "stdout",
          "text": [
            "The elf with the most food is elf 2 .\n",
            "They have 70369 calories worth of food.\n"
          ]
        }
      ]
    },
    {
      "cell_type": "code",
      "source": [
        "def main():\n",
        "  new_most_food = 0\n",
        "  second_food = 0\n",
        "  third_food = 0\n",
        "  elf1 = 0\n",
        "  elf2 = 0\n",
        "  elf3 = 0\n",
        "\n",
        "  for i in range(len(elves_list)):\n",
        "    if elves_list[i]>new_most_food:\n",
        "      third_food = second_food\n",
        "      second_food = new_most_food\n",
        "      new_most_food = elves_list[i]\n",
        "      elf1 = i+1\n",
        "    elif(elves_list[i]<new_most_food) & (elves_list[i]>second_food):\n",
        "      third_food = second_food\n",
        "      second_food = elves_list[i]\n",
        "      elf2 = i+1\n",
        "    elif (elves_list[i]<new_most_food)&(elves_list[i]<second_food)&(elves_list[i]>third_food):\n",
        "      third_food = elves_list[i]\n",
        "      elf3 = i+1\n",
        "\n",
        "  total_cals = new_most_food + second_food + third_food\n",
        "\n",
        "  print(\"The 3 elves with the most food are elves\",elf1,elf2,\"&\",elf3,\"\\nThey have\",total_cals,\"calories in total\")\n",
        "\n",
        "main()\n",
        "\n",
        "\n"
      ],
      "metadata": {
        "colab": {
          "base_uri": "https://localhost:8080/"
        },
        "id": "7XWWKFW1GOY7",
        "outputId": "78accad8-a1ab-4dc3-ce31-1d4a0b76952b"
      },
      "execution_count": 6,
      "outputs": [
        {
          "output_type": "stream",
          "name": "stdout",
          "text": [
            "The 3 elves with the most food are elves 2 120 & 186 \n",
            "They have 203002 calories in total\n"
          ]
        }
      ]
    }
  ]
}